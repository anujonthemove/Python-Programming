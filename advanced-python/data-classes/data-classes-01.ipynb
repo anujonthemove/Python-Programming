{
 "cells": [
  {
   "cell_type": "markdown",
   "metadata": {},
   "source": [
    "Regular/Barebone classes classes"
   ]
  },
  {
   "cell_type": "markdown",
   "metadata": {},
   "source": [
    "#### References\n",
    "\n",
    "1. https://www.youtube.com/watch?v=vRVVyl9uaZc&ab_channel=ArjanCodes"
   ]
  },
  {
   "cell_type": "code",
   "execution_count": 34,
   "metadata": {},
   "outputs": [],
   "source": [
    "class Person:\n",
    "    name: str\n",
    "    age: int\n",
    "    job: str\n",
    "\n",
    "    def __init__(self, name, age, job):\n",
    "        self.name = name\n",
    "        self.age = age\n",
    "        self.job = job"
   ]
  },
  {
   "cell_type": "code",
   "execution_count": 35,
   "metadata": {},
   "outputs": [],
   "source": [
    "person1 = Person(\"AJ\", 20, \"Programmer\")\n",
    "person2 = Person(\"Charlie\", 25, \"Data Analyst\")\n",
    "person3 = Person(\"James\", 30, \"Data Engineer\")\n",
    "person4 = Person(\"James\", 30, \"Data Engineer\")"
   ]
  },
  {
   "cell_type": "code",
   "execution_count": 36,
   "metadata": {},
   "outputs": [
    {
     "name": "stdout",
     "output_type": "stream",
     "text": [
      "139669385235616\n",
      "139669385247136\n"
     ]
    }
   ],
   "source": [
    "print(id(person3))\n",
    "print(id(person4))"
   ]
  },
  {
   "cell_type": "code",
   "execution_count": 37,
   "metadata": {},
   "outputs": [
    {
     "name": "stdout",
     "output_type": "stream",
     "text": [
      "<__main__.Person object at 0x7f075017d330>\n"
     ]
    }
   ],
   "source": [
    "print(person1)"
   ]
  },
  {
   "cell_type": "code",
   "execution_count": 38,
   "metadata": {},
   "outputs": [
    {
     "name": "stdout",
     "output_type": "stream",
     "text": [
      "False\n"
     ]
    }
   ],
   "source": [
    "print(person3 == person4)"
   ]
  },
  {
   "cell_type": "markdown",
   "metadata": {},
   "source": [
    "___"
   ]
  },
  {
   "cell_type": "code",
   "execution_count": 39,
   "metadata": {},
   "outputs": [],
   "source": [
    "from dataclasses import dataclass\n",
    "\n",
    "@dataclass\n",
    "class Person:\n",
    "    name: str\n",
    "    age: int\n",
    "    job: str"
   ]
  },
  {
   "cell_type": "code",
   "execution_count": 40,
   "metadata": {},
   "outputs": [],
   "source": [
    "person1 = Person(\"AJ\", 20, \"Programmer\")\n",
    "person2 = Person(\"Charlie\", 25, \"Data Analyst\")\n",
    "person3 = Person(\"James\", 30, \"Data Engineer\")\n",
    "person4 = Person(\"James\", 30, \"Data Engineer\")"
   ]
  },
  {
   "cell_type": "code",
   "execution_count": 41,
   "metadata": {},
   "outputs": [
    {
     "name": "stdout",
     "output_type": "stream",
     "text": [
      "Person(name='AJ', age=20, job='Programmer')\n"
     ]
    }
   ],
   "source": [
    "print(person1)"
   ]
  },
  {
   "cell_type": "code",
   "execution_count": 42,
   "metadata": {},
   "outputs": [
    {
     "name": "stdout",
     "output_type": "stream",
     "text": [
      "139669384424960\n",
      "139669385233408\n"
     ]
    }
   ],
   "source": [
    "print(id(person3))\n",
    "print(id(person4))"
   ]
  },
  {
   "cell_type": "markdown",
   "metadata": {},
   "source": [
    "Objects can be compared and it returns true in case they both have same content"
   ]
  },
  {
   "cell_type": "code",
   "execution_count": 43,
   "metadata": {},
   "outputs": [
    {
     "name": "stdout",
     "output_type": "stream",
     "text": [
      "True\n"
     ]
    }
   ],
   "source": [
    "print(person3 == person4)"
   ]
  },
  {
   "cell_type": "markdown",
   "metadata": {},
   "source": [
    "___"
   ]
  },
  {
   "cell_type": "markdown",
   "metadata": {},
   "source": [
    "Compare objects using order"
   ]
  },
  {
   "cell_type": "code",
   "execution_count": 44,
   "metadata": {},
   "outputs": [],
   "source": [
    "from dataclasses import dataclass, field\n",
    "\n",
    "@dataclass(order=True)\n",
    "class Person:\n",
    "    sort_index: int = field(init=False, repr=False)\n",
    "    name: str\n",
    "    age: int\n",
    "    job: str\n",
    "    strength: int = 100\n",
    "\n",
    "    def __post_init__(self):\n",
    "        self.sort_index = self.strength"
   ]
  },
  {
   "cell_type": "code",
   "execution_count": 45,
   "metadata": {},
   "outputs": [],
   "source": [
    "person1 = Person(\"AJ\", 20, \"Programmer\", 90)\n",
    "person2 = Person(\"Charlie\", 25, \"Data Analyst\")\n",
    "person3 = Person(\"James\", 30, \"Data Engineer\")\n",
    "person4 = Person(\"James\", 30, \"Data Engineer\")"
   ]
  },
  {
   "cell_type": "code",
   "execution_count": 46,
   "metadata": {},
   "outputs": [],
   "source": [
    "person1.strength = 200"
   ]
  },
  {
   "cell_type": "code",
   "execution_count": 47,
   "metadata": {},
   "outputs": [
    {
     "name": "stdout",
     "output_type": "stream",
     "text": [
      "Person(name='AJ', age=20, job='Programmer', strength=200)\n",
      "Person(name='Charlie', age=25, job='Data Analyst', strength=100)\n"
     ]
    }
   ],
   "source": [
    "print(person1)\n",
    "print(person2)"
   ]
  },
  {
   "cell_type": "code",
   "execution_count": 48,
   "metadata": {},
   "outputs": [
    {
     "name": "stdout",
     "output_type": "stream",
     "text": [
      "True\n"
     ]
    }
   ],
   "source": [
    "print(person2 > person1)"
   ]
  },
  {
   "cell_type": "code",
   "execution_count": 49,
   "metadata": {},
   "outputs": [
    {
     "name": "stdout",
     "output_type": "stream",
     "text": [
      "False\n"
     ]
    }
   ],
   "source": [
    "print(person1 > person2)"
   ]
  },
  {
   "cell_type": "code",
   "execution_count": 50,
   "metadata": {},
   "outputs": [
    {
     "data": {
      "text/plain": [
       "Person(name='Charlie', age=25, job='Data Analyst', strength=100)"
      ]
     },
     "execution_count": 50,
     "metadata": {},
     "output_type": "execute_result"
    }
   ],
   "source": [
    "person2"
   ]
  },
  {
   "cell_type": "code",
   "execution_count": 51,
   "metadata": {},
   "outputs": [
    {
     "data": {
      "text/plain": [
       "{'name': 'AJ',\n",
       " 'age': 20,\n",
       " 'job': 'Programmer',\n",
       " 'strength': 200,\n",
       " 'sort_index': 90}"
      ]
     },
     "execution_count": 51,
     "metadata": {},
     "output_type": "execute_result"
    }
   ],
   "source": [
    "person1.__dict__"
   ]
  },
  {
   "cell_type": "code",
   "execution_count": 52,
   "metadata": {},
   "outputs": [],
   "source": [
    "person1.strength = 10"
   ]
  },
  {
   "cell_type": "code",
   "execution_count": 53,
   "metadata": {},
   "outputs": [
    {
     "data": {
      "text/plain": [
       "{'name': 'AJ',\n",
       " 'age': 20,\n",
       " 'job': 'Programmer',\n",
       " 'strength': 10,\n",
       " 'sort_index': 90}"
      ]
     },
     "execution_count": 53,
     "metadata": {},
     "output_type": "execute_result"
    }
   ],
   "source": [
    "person1.__dict__"
   ]
  },
  {
   "cell_type": "code",
   "execution_count": 54,
   "metadata": {},
   "outputs": [
    {
     "data": {
      "text/plain": [
       "False"
      ]
     },
     "execution_count": 54,
     "metadata": {},
     "output_type": "execute_result"
    }
   ],
   "source": [
    "person1 > person2"
   ]
  },
  {
   "cell_type": "code",
   "execution_count": 55,
   "metadata": {},
   "outputs": [
    {
     "data": {
      "text/plain": [
       "Person(name='Charlie', age=25, job='Data Analyst', strength=100)"
      ]
     },
     "execution_count": 55,
     "metadata": {},
     "output_type": "execute_result"
    }
   ],
   "source": [
    "person2"
   ]
  },
  {
   "cell_type": "markdown",
   "metadata": {},
   "source": [
    "___"
   ]
  },
  {
   "cell_type": "markdown",
   "metadata": {
    "notebookRunGroups": {
     "groupValue": "1"
    }
   },
   "source": [
    "Frozen Attribute\n",
    "\n",
    "When this is set, you cannot do an assignment to sort_index directly but you can set it's value using \\_\\_setattr\\_\\_ "
   ]
  },
  {
   "cell_type": "code",
   "execution_count": 56,
   "metadata": {},
   "outputs": [],
   "source": [
    "from dataclasses import dataclass, field\n",
    "\n",
    "@dataclass(order=True, frozen=True)\n",
    "class Person:\n",
    "    sort_index: int = field(init=False, repr=False)\n",
    "    name: str\n",
    "    age: int\n",
    "    job: str\n",
    "    strength: int = 100\n",
    "\n",
    "    def __post_init__(self):\n",
    "        object.__setattr__(self, 'sort_index', self.strength)"
   ]
  },
  {
   "cell_type": "code",
   "execution_count": 57,
   "metadata": {},
   "outputs": [],
   "source": [
    "person1 = Person(\"AJ\", 20, \"Programmer\", 90)\n",
    "person2 = Person(\"Charlie\", 25, \"Data Analyst\")\n",
    "person3 = Person(\"James\", 30, \"Data Engineer\")\n",
    "person4 = Person(\"James\", 30, \"Data Engineer\")"
   ]
  },
  {
   "cell_type": "code",
   "execution_count": 58,
   "metadata": {},
   "outputs": [
    {
     "name": "stdout",
     "output_type": "stream",
     "text": [
      "Person(name='AJ', age=20, job='Programmer', strength=90)\n",
      "Person(name='Charlie', age=25, job='Data Analyst', strength=100)\n"
     ]
    }
   ],
   "source": [
    "print(person1)\n",
    "print(person2)"
   ]
  },
  {
   "cell_type": "code",
   "execution_count": 59,
   "metadata": {},
   "outputs": [
    {
     "name": "stdout",
     "output_type": "stream",
     "text": [
      "True\n"
     ]
    }
   ],
   "source": [
    "print(person2 > person1)"
   ]
  },
  {
   "cell_type": "code",
   "execution_count": 60,
   "metadata": {},
   "outputs": [
    {
     "name": "stdout",
     "output_type": "stream",
     "text": [
      "False\n"
     ]
    }
   ],
   "source": [
    "print(person1 > person2)"
   ]
  },
  {
   "cell_type": "code",
   "execution_count": 61,
   "metadata": {},
   "outputs": [
    {
     "data": {
      "text/plain": [
       "Person(name='Charlie', age=25, job='Data Analyst', strength=100)"
      ]
     },
     "execution_count": 61,
     "metadata": {},
     "output_type": "execute_result"
    }
   ],
   "source": [
    "person2"
   ]
  },
  {
   "cell_type": "code",
   "execution_count": 62,
   "metadata": {},
   "outputs": [
    {
     "data": {
      "text/plain": [
       "{'name': 'AJ',\n",
       " 'age': 20,\n",
       " 'job': 'Programmer',\n",
       " 'strength': 90,\n",
       " 'sort_index': 90}"
      ]
     },
     "execution_count": 62,
     "metadata": {},
     "output_type": "execute_result"
    }
   ],
   "source": [
    "person1.__dict__"
   ]
  },
  {
   "cell_type": "code",
   "execution_count": 63,
   "metadata": {},
   "outputs": [
    {
     "data": {
      "text/plain": [
       "{'name': 'AJ',\n",
       " 'age': 20,\n",
       " 'job': 'Programmer',\n",
       " 'strength': 90,\n",
       " 'sort_index': 90}"
      ]
     },
     "execution_count": 63,
     "metadata": {},
     "output_type": "execute_result"
    }
   ],
   "source": [
    "person1.__dict__"
   ]
  },
  {
   "cell_type": "code",
   "execution_count": 64,
   "metadata": {},
   "outputs": [
    {
     "data": {
      "text/plain": [
       "False"
      ]
     },
     "execution_count": 64,
     "metadata": {},
     "output_type": "execute_result"
    }
   ],
   "source": [
    "person1 > person2"
   ]
  },
  {
   "cell_type": "code",
   "execution_count": 65,
   "metadata": {},
   "outputs": [
    {
     "data": {
      "text/plain": [
       "Person(name='Charlie', age=25, job='Data Analyst', strength=100)"
      ]
     },
     "execution_count": 65,
     "metadata": {},
     "output_type": "execute_result"
    }
   ],
   "source": [
    "person2"
   ]
  },
  {
   "cell_type": "markdown",
   "metadata": {},
   "source": [
    "cannot set any attribute directly here due to `frozen=true` attribute"
   ]
  },
  {
   "cell_type": "code",
   "execution_count": 66,
   "metadata": {},
   "outputs": [
    {
     "ename": "FrozenInstanceError",
     "evalue": "cannot assign to field 'strength'",
     "output_type": "error",
     "traceback": [
      "\u001b[0;31m---------------------------------------------------------------------------\u001b[0m",
      "\u001b[0;31mFrozenInstanceError\u001b[0m                       Traceback (most recent call last)",
      "\u001b[1;32m/home/acer/workspace/Python-Programming/advanced-python/data-classes/data-classes-01.ipynb Cell 41\u001b[0m line \u001b[0;36m1\n\u001b[0;32m----> <a href='vscode-notebook-cell:/home/acer/workspace/Python-Programming/advanced-python/data-classes/data-classes-01.ipynb#X63sZmlsZQ%3D%3D?line=0'>1</a>\u001b[0m person1\u001b[39m.\u001b[39;49mstrength \u001b[39m=\u001b[39m \u001b[39m10\u001b[39m\n",
      "File \u001b[0;32m<string>:4\u001b[0m, in \u001b[0;36m__setattr__\u001b[0;34m(self, name, value)\u001b[0m\n",
      "\u001b[0;31mFrozenInstanceError\u001b[0m: cannot assign to field 'strength'"
     ]
    }
   ],
   "source": [
    "person1.strength = 10"
   ]
  },
  {
   "cell_type": "markdown",
   "metadata": {},
   "source": [
    "___"
   ]
  },
  {
   "cell_type": "markdown",
   "metadata": {},
   "source": [
    "Keyword only argument from Python 3.10 onwards"
   ]
  },
  {
   "cell_type": "code",
   "execution_count": 1,
   "metadata": {},
   "outputs": [],
   "source": [
    "from dataclasses import dataclass, field\n",
    "\n",
    "@dataclass(kw_only=True)\n",
    "class Person:\n",
    "    sort_index: int = field(init=False, repr=False)\n",
    "    name: str\n",
    "    age: int\n",
    "    job: str\n",
    "    strength: int = 100\n",
    "\n",
    "    def __post_init__(self):\n",
    "        object.__setattr__(self, 'sort_index', self.strength)"
   ]
  },
  {
   "cell_type": "code",
   "execution_count": 2,
   "metadata": {},
   "outputs": [
    {
     "ename": "TypeError",
     "evalue": "Person.__init__() takes 1 positional argument but 5 were given",
     "output_type": "error",
     "traceback": [
      "\u001b[0;31m---------------------------------------------------------------------------\u001b[0m",
      "\u001b[0;31mTypeError\u001b[0m                                 Traceback (most recent call last)",
      "\u001b[1;32m/home/acer/workspace/Python-Programming/advanced-python/data-classes/data-classes-01.ipynb Cell 46\u001b[0m line \u001b[0;36m1\n\u001b[0;32m----> <a href='vscode-notebook-cell:/home/acer/workspace/Python-Programming/advanced-python/data-classes/data-classes-01.ipynb#X65sZmlsZQ%3D%3D?line=0'>1</a>\u001b[0m person1 \u001b[39m=\u001b[39m Person(\u001b[39m\"\u001b[39;49m\u001b[39mAJ\u001b[39;49m\u001b[39m\"\u001b[39;49m, \u001b[39m20\u001b[39;49m, \u001b[39m\"\u001b[39;49m\u001b[39mProgrammer\u001b[39;49m\u001b[39m\"\u001b[39;49m, \u001b[39m90\u001b[39;49m)\n\u001b[1;32m      <a href='vscode-notebook-cell:/home/acer/workspace/Python-Programming/advanced-python/data-classes/data-classes-01.ipynb#X65sZmlsZQ%3D%3D?line=1'>2</a>\u001b[0m person2 \u001b[39m=\u001b[39m Person(\u001b[39m\"\u001b[39m\u001b[39mCharlie\u001b[39m\u001b[39m\"\u001b[39m, \u001b[39m25\u001b[39m, \u001b[39m\"\u001b[39m\u001b[39mData Analyst\u001b[39m\u001b[39m\"\u001b[39m)\n\u001b[1;32m      <a href='vscode-notebook-cell:/home/acer/workspace/Python-Programming/advanced-python/data-classes/data-classes-01.ipynb#X65sZmlsZQ%3D%3D?line=2'>3</a>\u001b[0m person3 \u001b[39m=\u001b[39m Person(\u001b[39m\"\u001b[39m\u001b[39mJames\u001b[39m\u001b[39m\"\u001b[39m, \u001b[39m30\u001b[39m, \u001b[39m\"\u001b[39m\u001b[39mData Engineer\u001b[39m\u001b[39m\"\u001b[39m)\n",
      "\u001b[0;31mTypeError\u001b[0m: Person.__init__() takes 1 positional argument but 5 were given"
     ]
    }
   ],
   "source": [
    "person1 = Person(\"AJ\", 20, \"Programmer\", 90)\n",
    "person2 = Person(\"Charlie\", 25, \"Data Analyst\")\n",
    "person3 = Person(\"James\", 30, \"Data Engineer\")\n",
    "person4 = Person(\"James\", 30, \"Data Engineer\")"
   ]
  },
  {
   "cell_type": "markdown",
   "metadata": {},
   "source": [
    "When you set `kw_only=True` then you can do the initialization only using keywords"
   ]
  },
  {
   "cell_type": "code",
   "execution_count": 3,
   "metadata": {},
   "outputs": [],
   "source": [
    "person1 = Person(name=\"AJ\", age=20, job=\"Programmer\")\n",
    "# person2 = Person(\"Charlie\", 25, \"Data Analyst\")\n",
    "# person3 = Person(\"James\", 30, \"Data Engineer\")\n",
    "# person4 = Person(\"James\", 30, \"Data Engineer\")"
   ]
  },
  {
   "cell_type": "code",
   "execution_count": 4,
   "metadata": {},
   "outputs": [
    {
     "name": "stdout",
     "output_type": "stream",
     "text": [
      "Person(name='AJ', age=20, job='Programmer', strength=100)\n"
     ]
    }
   ],
   "source": [
    "print(person1)"
   ]
  },
  {
   "cell_type": "code",
   "execution_count": null,
   "metadata": {},
   "outputs": [],
   "source": []
  }
 ],
 "metadata": {
  "kernelspec": {
   "display_name": ".venv",
   "language": "python",
   "name": "python3"
  },
  "language_info": {
   "codemirror_mode": {
    "name": "ipython",
    "version": 3
   },
   "file_extension": ".py",
   "mimetype": "text/x-python",
   "name": "python",
   "nbconvert_exporter": "python",
   "pygments_lexer": "ipython3",
   "version": "3.10.12"
  }
 },
 "nbformat": 4,
 "nbformat_minor": 2
}

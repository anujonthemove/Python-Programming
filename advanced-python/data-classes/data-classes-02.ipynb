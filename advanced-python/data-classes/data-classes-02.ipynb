{
 "cells": [
  {
   "cell_type": "markdown",
   "metadata": {},
   "source": [
    "#### References\n",
    "\n",
    "1. https://www.youtube.com/watch?v=CvQ7e6yUtnw&t=69s&ab_channel=ArjanCodes"
   ]
  },
  {
   "cell_type": "markdown",
   "metadata": {},
   "source": [
    "Regular/barebone classes"
   ]
  },
  {
   "cell_type": "code",
   "execution_count": 181,
   "metadata": {},
   "outputs": [],
   "source": [
    "import random\n",
    "import string"
   ]
  },
  {
   "cell_type": "code",
   "execution_count": 182,
   "metadata": {},
   "outputs": [],
   "source": [
    "def generate_id() -> str:\n",
    "    return \"\".join(random.choices(string.ascii_lowercase, k=12))"
   ]
  },
  {
   "cell_type": "code",
   "execution_count": 183,
   "metadata": {},
   "outputs": [],
   "source": [
    "class Person:\n",
    "    def __init__(self, name: str, address: str):\n",
    "        self.name = name\n",
    "        self.address = address\n",
    "    \n",
    "    def __str__(self):\n",
    "        return f\"Person {self.name}, {self.address}\"\n",
    "    "
   ]
  },
  {
   "cell_type": "code",
   "execution_count": 184,
   "metadata": {},
   "outputs": [],
   "source": [
    "def main() -> None:\n",
    "    person = Person(name=\"John\", address=\"123, Main St.\")\n",
    "    print(person)"
   ]
  },
  {
   "cell_type": "code",
   "execution_count": 185,
   "metadata": {},
   "outputs": [
    {
     "name": "stdout",
     "output_type": "stream",
     "text": [
      "Person John, 123, Main St.\n"
     ]
    }
   ],
   "source": [
    "if __name__ == \"__main__\":\n",
    "    main()"
   ]
  },
  {
   "cell_type": "markdown",
   "metadata": {},
   "source": [
    "___"
   ]
  },
  {
   "cell_type": "code",
   "execution_count": 186,
   "metadata": {},
   "outputs": [],
   "source": [
    "def generate_id() -> str:\n",
    "    return \"\".join(random.choices(string.ascii_lowercase, k=12))"
   ]
  },
  {
   "cell_type": "code",
   "execution_count": 187,
   "metadata": {},
   "outputs": [],
   "source": [
    "from dataclasses import dataclass\n",
    "\n",
    "@dataclass\n",
    "class Person:\n",
    "    name: str\n",
    "    address: str"
   ]
  },
  {
   "cell_type": "code",
   "execution_count": 188,
   "metadata": {},
   "outputs": [],
   "source": [
    "def main() -> None:\n",
    "    person = Person(name=\"John\", address=\"123, Main St.\")\n",
    "    print(person)"
   ]
  },
  {
   "cell_type": "code",
   "execution_count": 189,
   "metadata": {},
   "outputs": [
    {
     "name": "stdout",
     "output_type": "stream",
     "text": [
      "Person(name='John', address='123, Main St.')\n"
     ]
    }
   ],
   "source": [
    "if __name__ == \"__main__\":\n",
    "    main()"
   ]
  },
  {
   "cell_type": "markdown",
   "metadata": {},
   "source": [
    "____"
   ]
  },
  {
   "cell_type": "markdown",
   "metadata": {},
   "source": [
    "assigning default values"
   ]
  },
  {
   "cell_type": "code",
   "execution_count": 190,
   "metadata": {},
   "outputs": [],
   "source": [
    "def generate_id() -> str:\n",
    "    return \"\".join(random.choices(string.ascii_lowercase, k=12))"
   ]
  },
  {
   "cell_type": "code",
   "execution_count": 191,
   "metadata": {},
   "outputs": [],
   "source": [
    "from dataclasses import dataclass, field\n",
    "\n",
    "@dataclass\n",
    "class Person:\n",
    "    name: str\n",
    "    address: str\n",
    "    active: bool = True\n",
    "    email_addresses: list[str] = field(default_factory=list)\n",
    "    id: str = field(init=False, default_factory=generate_id)\n",
    "    _search_string: str = field(init=False, repr=False)\n",
    "\n",
    "    def __post_init__(self):\n",
    "        self._search_string = f\"{self.name} {self.address}\""
   ]
  },
  {
   "cell_type": "code",
   "execution_count": 192,
   "metadata": {},
   "outputs": [],
   "source": [
    "def main() -> None:\n",
    "    person1 = Person(name=\"John\", address=\"123, Main St.\", email_addresses=\"abc@abc.com\")\n",
    "    person2 = Person(name=\"May\", address=\"122, Rog St.\", email_addresses=\"cde@xyz.com\")\n",
    "    print(person1)\n",
    "    print(person2)"
   ]
  },
  {
   "cell_type": "code",
   "execution_count": 193,
   "metadata": {},
   "outputs": [
    {
     "name": "stdout",
     "output_type": "stream",
     "text": [
      "Person(name='John', address='123, Main St.', active=True, email_addresses='abc@abc.com', id='newaolusfycl')\n",
      "Person(name='May', address='122, Rog St.', active=True, email_addresses='cde@xyz.com', id='pfmqbcigvtwn')\n"
     ]
    }
   ],
   "source": [
    "if __name__ == \"__main__\":\n",
    "    main()"
   ]
  },
  {
   "cell_type": "markdown",
   "metadata": {},
   "source": [
    "____"
   ]
  },
  {
   "cell_type": "markdown",
   "metadata": {},
   "source": [
    "slots"
   ]
  },
  {
   "cell_type": "code",
   "execution_count": 194,
   "metadata": {},
   "outputs": [],
   "source": [
    "import timeit\n",
    "from dataclasses import dataclass\n",
    "from functools import partial"
   ]
  },
  {
   "cell_type": "code",
   "execution_count": 195,
   "metadata": {},
   "outputs": [],
   "source": [
    "@dataclass(slots=False)\n",
    "class Person:\n",
    "    name: str\n",
    "    address: str\n",
    "    email: str"
   ]
  },
  {
   "cell_type": "code",
   "execution_count": 196,
   "metadata": {},
   "outputs": [],
   "source": [
    "@dataclass(slots=True)\n",
    "class PersonSlots:\n",
    "    name: str\n",
    "    address: str\n",
    "    email: str"
   ]
  },
  {
   "cell_type": "code",
   "execution_count": 197,
   "metadata": {},
   "outputs": [],
   "source": [
    "def get_set_delete(person: Person | PersonSlots):\n",
    "    person.address = \"123 12th Main\"\n",
    "    person.address\n",
    "    del person.address"
   ]
  },
  {
   "cell_type": "code",
   "execution_count": 198,
   "metadata": {},
   "outputs": [],
   "source": [
    "def main():\n",
    "    person = Person(name=\"John\", address=\"123, Main St.\", email=\"abc@abc.com\")\n",
    "    person_slots = PersonSlots(name=\"John Doe\", address=\"123, 12th Maine Street\", email=\"abc@abc.com\")\n",
    "\n",
    "    no_slots = min(timeit.repeat(partial(get_set_delete, person), number=10000000))\n",
    "    slots = min(timeit.repeat(partial(get_set_delete, person_slots), number=10000000))\n",
    "\n",
    "    print(f\"No slots: {no_slots}\")\n",
    "    print(f\"Slots: {slots}\")\n",
    "    \n",
    "    print(f\"Performance improvement: {(no_slots-slots)/no_slots:.2%}\")\n"
   ]
  },
  {
   "cell_type": "code",
   "execution_count": 199,
   "metadata": {},
   "outputs": [
    {
     "name": "stdout",
     "output_type": "stream",
     "text": [
      "No slots: 1.061297296000248\n",
      "Slots: 0.7609270890002335\n",
      "Performance improvement: 28.30%\n"
     ]
    }
   ],
   "source": [
    "if __name__ == \"__main__\":\n",
    "    main()"
   ]
  },
  {
   "cell_type": "code",
   "execution_count": null,
   "metadata": {},
   "outputs": [],
   "source": []
  }
 ],
 "metadata": {
  "kernelspec": {
   "display_name": ".venv",
   "language": "python",
   "name": "python3"
  },
  "language_info": {
   "codemirror_mode": {
    "name": "ipython",
    "version": 3
   },
   "file_extension": ".py",
   "mimetype": "text/x-python",
   "name": "python",
   "nbconvert_exporter": "python",
   "pygments_lexer": "ipython3",
   "version": "3.10.12"
  }
 },
 "nbformat": 4,
 "nbformat_minor": 2
}

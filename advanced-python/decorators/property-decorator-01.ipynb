{
 "cells": [
  {
   "cell_type": "markdown",
   "metadata": {},
   "source": [
    "* From [1] I learned that classes in Python store attribute values in dictionary which can be accessed by dunder dict (\\_\\_dict__)"
   ]
  },
  {
   "cell_type": "markdown",
   "metadata": {},
   "source": [
    "#### References\n",
    "\n",
    "* [1] https://www.youtube.com/watch?v=Fot3_9eDmOs\n",
    "* [2] https://www.datacamp.com/tutorial/property-getters-setters\n",
    "* [3] https://www.programiz.com/python-programming/property"
   ]
  },
  {
   "cell_type": "code",
   "execution_count": 2,
   "metadata": {},
   "outputs": [],
   "source": [
    "class Point:\n",
    "    def __init__(self, x, y):\n",
    "        self.x = x\n",
    "        self.y = y\n",
    "    \n",
    "    def __repr__(self):\n",
    "        return f\"Point (x: {self.x}, y: {self.y})\""
   ]
  },
  {
   "cell_type": "code",
   "execution_count": 4,
   "metadata": {},
   "outputs": [],
   "source": [
    "p = Point(x=1, y=2)"
   ]
  },
  {
   "cell_type": "code",
   "execution_count": 9,
   "metadata": {},
   "outputs": [
    {
     "name": "stdout",
     "output_type": "stream",
     "text": [
      "Point (x: 1, y: 2)\n"
     ]
    }
   ],
   "source": [
    "# this is possible via the __repr__ dunder\n",
    "print(p)"
   ]
  },
  {
   "cell_type": "code",
   "execution_count": 5,
   "metadata": {},
   "outputs": [
    {
     "data": {
      "text/plain": [
       "{'x': 1, 'y': 2}"
      ]
     },
     "execution_count": 5,
     "metadata": {},
     "output_type": "execute_result"
    }
   ],
   "source": [
    "p.__dict__"
   ]
  },
  {
   "cell_type": "markdown",
   "metadata": {},
   "source": [
    "* In [1], I also learned that we can add any aribitrary attributes to this dictionary without even defining them in the actual class itself."
   ]
  },
  {
   "cell_type": "code",
   "execution_count": 6,
   "metadata": {},
   "outputs": [],
   "source": [
    "p.a = 10\n",
    "p.b = 20"
   ]
  },
  {
   "cell_type": "code",
   "execution_count": 7,
   "metadata": {},
   "outputs": [
    {
     "data": {
      "text/plain": [
       "{'x': 1, 'y': 2, 'a': 10, 'b': 20}"
      ]
     },
     "execution_count": 7,
     "metadata": {},
     "output_type": "execute_result"
    }
   ],
   "source": [
    "p.__dict__"
   ]
  },
  {
   "cell_type": "markdown",
   "metadata": {},
   "source": [
    "* From [2], I learned that this is just a Pythonic way of defining classes and it doesn't really implement any encapsulation feature of OOPs."
   ]
  },
  {
   "cell_type": "code",
   "execution_count": 1,
   "metadata": {},
   "outputs": [],
   "source": [
    "class Point:\n",
    "    def __init__(self, x, y):\n",
    "        self.set_x(x)\n",
    "        self.set_y(y)\n",
    "\n",
    "    # Getter for x\n",
    "    def get_x(self):\n",
    "        return self.__x\n",
    "\n",
    "    # Setter for x\n",
    "    def set_x(self, value):\n",
    "        print(\"setter for x called\")\n",
    "        if value < 0:\n",
    "            raise ValueError(\"x cannot be negative\")\n",
    "        self.__x = value\n",
    "\n",
    "    # Getter for y\n",
    "    def get_y(self):\n",
    "        return self.__y\n",
    "\n",
    "    # Setter for y\n",
    "    def set_y(self, value): \n",
    "        print(\"setter for y called\")\n",
    "\n",
    "        if value < 0:\n",
    "            raise ValueError(\"y cannot be negative\")\n",
    "        self.__y = value\n",
    "\n",
    "    def __str__(self):\n",
    "        return f\"Point({self.__x}, {self._y})\""
   ]
  },
  {
   "cell_type": "markdown",
   "metadata": {},
   "source": [
    "* One way to implement encapsulation is by making attributes private to the class and using getter and setter functions for setting and getting values."
   ]
  },
  {
   "cell_type": "code",
   "execution_count": 3,
   "metadata": {},
   "outputs": [],
   "source": [
    "class Point:\n",
    "\n",
    "    def __init__(self, x, y):\n",
    "        self.set_x(x)\n",
    "        self.set_y(y)\n",
    "\n",
    "    def set_x(self, value):\n",
    "        print(\"setting x\")\n",
    "        self.__x = value\n",
    "\n",
    "    def get_x(self):\n",
    "        return self.__x\n",
    "    \n",
    "    def set_y(self, value):\n",
    "        print(\"setter y\")\n",
    "        self.__y = value\n",
    "    \n",
    "    def get_y(self):\n",
    "        return self.__y"
   ]
  },
  {
   "cell_type": "code",
   "execution_count": 5,
   "metadata": {},
   "outputs": [
    {
     "name": "stdout",
     "output_type": "stream",
     "text": [
      "setting x\n",
      "setter y\n",
      "1\n",
      "2\n",
      "setting x\n",
      "setter y\n"
     ]
    }
   ],
   "source": [
    "p = Point(1, 2)\n",
    "print(p.get_x())  # Get x\n",
    "print(p.get_y())  # Get y\n",
    "\n",
    "p.set_x(3)        # Set x\n",
    "p.set_y(4)        # Set y"
   ]
  },
  {
   "cell_type": "markdown",
   "metadata": {},
   "source": [
    "* If we now print the dunder dict, we can see how the variables are named"
   ]
  },
  {
   "cell_type": "code",
   "execution_count": 6,
   "metadata": {},
   "outputs": [
    {
     "data": {
      "text/plain": [
       "{'_Point__x': 3, '_Point__y': 4}"
      ]
     },
     "execution_count": 6,
     "metadata": {},
     "output_type": "execute_result"
    }
   ],
   "source": [
    "p.__dict__"
   ]
  },
  {
   "cell_type": "markdown",
   "metadata": {},
   "source": [
    "* And if we try to access the variables directly, Python will throw an error, which is the correct behaviour."
   ]
  },
  {
   "cell_type": "code",
   "execution_count": 7,
   "metadata": {},
   "outputs": [
    {
     "ename": "AttributeError",
     "evalue": "'Point' object has no attribute '__x'",
     "output_type": "error",
     "traceback": [
      "\u001b[0;31m---------------------------------------------------------------------------\u001b[0m",
      "\u001b[0;31mAttributeError\u001b[0m                            Traceback (most recent call last)",
      "\u001b[1;32m/home/acer/workspace/personal/github/Python-Programming/advanced-python/decorators/property-decorator-01.ipynb Cell 15\u001b[0m line \u001b[0;36m1\n\u001b[0;32m----> <a href='vscode-notebook-cell:/home/acer/workspace/personal/github/Python-Programming/advanced-python/decorators/property-decorator-01.ipynb#X30sZmlsZQ%3D%3D?line=0'>1</a>\u001b[0m \u001b[39mprint\u001b[39m(p\u001b[39m.\u001b[39;49m__x, p\u001b[39m.\u001b[39m__y)\n",
      "\u001b[0;31mAttributeError\u001b[0m: 'Point' object has no attribute '__x'"
     ]
    }
   ],
   "source": [
    "print(p.__x, p.__y)"
   ]
  },
  {
   "cell_type": "code",
   "execution_count": 8,
   "metadata": {},
   "outputs": [],
   "source": [
    "p.__x = 10\n",
    "p.__y = 20"
   ]
  },
  {
   "cell_type": "code",
   "execution_count": 9,
   "metadata": {},
   "outputs": [
    {
     "data": {
      "text/plain": [
       "{'_Point__x': 3, '_Point__y': 4, '__x': 10, '__y': 20}"
      ]
     },
     "execution_count": 9,
     "metadata": {},
     "output_type": "execute_result"
    }
   ],
   "source": [
    "p.__dict__"
   ]
  },
  {
   "cell_type": "markdown",
   "metadata": {},
   "source": [
    "* If we force define variables like the way private variables are declared, then you can see that there is no possibility of altering the actual class variables.\n",
    "\n",
    "* Slightly better way of defining getter and setter is below. In this, we have customized the setter such that value cannot be negative."
   ]
  },
  {
   "cell_type": "code",
   "execution_count": 14,
   "metadata": {},
   "outputs": [],
   "source": [
    "class Point:\n",
    "\n",
    "    def __init__(self, x, y):\n",
    "\n",
    "        self.set_x(x)\n",
    "        self.set_y(y)\n",
    "    \n",
    "    def set_x(self, value):\n",
    "        print(\"setter for x called\")\n",
    "        if value < 0:\n",
    "            raise ValueError(\"x cannot be negative\")\n",
    "        \n",
    "        self.__x = value\n",
    "\n",
    "    def get_x(self):\n",
    "        return self.__x\n",
    "    \n",
    "    def set_y(self, value):\n",
    "        print(\"setter for y called\")\n",
    "        if value < 0:\n",
    "            raise ValueError(\"y cannot be negative\")\n",
    "        self.__y = value\n",
    "    \n",
    "    def get_y(self):\n",
    "        return self.__y"
   ]
  },
  {
   "cell_type": "code",
   "execution_count": 16,
   "metadata": {},
   "outputs": [
    {
     "name": "stdout",
     "output_type": "stream",
     "text": [
      "setter for x called\n",
      "setter for y called\n",
      "1\n",
      "2\n"
     ]
    }
   ],
   "source": [
    "p = Point(1, 2)\n",
    "print(p.get_x())  # Get x\n",
    "print(p.get_y())  # Get y"
   ]
  },
  {
   "cell_type": "markdown",
   "metadata": {},
   "source": [
    "* The way we have set values for x and y in the above class, it does not look good to me (maybe it is correct).\n",
    "* From [3], I learned how to do this better in Python by using the property class."
   ]
  },
  {
   "cell_type": "code",
   "execution_count": 1,
   "metadata": {},
   "outputs": [],
   "source": [
    "class Point:\n",
    "    def __init__(self, x, y):\n",
    "        self.x = x\n",
    "        self.y = y\n",
    "    \n",
    "    def set_x(self, value):\n",
    "        print(\"setter for x called\")\n",
    "        if value < 0:\n",
    "            raise ValueError(\"x value cannot be negative\")\n",
    "        self.__x = value\n",
    "    \n",
    "    def get_x(self):\n",
    "        print(\"getter for x called\")\n",
    "        return self.__x\n",
    "\n",
    "\n",
    "    def set_y(self, value):\n",
    "        print(\"setter for y called\")\n",
    "        if value < 0:\n",
    "            raise ValueError(\"y value cannot be negative\")\n",
    "        self.__y = value\n",
    "    \n",
    "    def get_y(self):\n",
    "        print(\"getter for y called\")\n",
    "        return self.__y\n",
    "    \n",
    "    x = property(get_x, set_x)\n",
    "    y = property(get_y, set_y)"
   ]
  },
  {
   "cell_type": "code",
   "execution_count": 2,
   "metadata": {},
   "outputs": [
    {
     "name": "stdout",
     "output_type": "stream",
     "text": [
      "setter for x called\n",
      "setter for y called\n"
     ]
    }
   ],
   "source": [
    "p = Point(1, 2)"
   ]
  },
  {
   "cell_type": "code",
   "execution_count": 3,
   "metadata": {},
   "outputs": [
    {
     "name": "stdout",
     "output_type": "stream",
     "text": [
      "getter for x called\n",
      "1\n",
      "getter for y called\n",
      "2\n"
     ]
    }
   ],
   "source": [
    "print(p.x)\n",
    "print(p.y)"
   ]
  },
  {
   "cell_type": "code",
   "execution_count": 4,
   "metadata": {},
   "outputs": [
    {
     "data": {
      "text/plain": [
       "{'_Point__x': 1, '_Point__y': 2}"
      ]
     },
     "execution_count": 4,
     "metadata": {},
     "output_type": "execute_result"
    }
   ],
   "source": [
    "p.__dict__"
   ]
  },
  {
   "cell_type": "markdown",
   "metadata": {},
   "source": [
    "* As you can see above, we can initialize the point normally but in doing so the setter method gets called. And the same happens when we try to fetch the values\n",
    "\n",
    "* All this is good but now one can see that if there are more attribtues to be defined then it would be cumbersome to write the setter and getter function everytime for each of the variables.\n",
    "\n",
    "* We now see the use of the `@property` decorator in the below class implementation. This has made everything look so neat."
   ]
  },
  {
   "cell_type": "code",
   "execution_count": 10,
   "metadata": {},
   "outputs": [],
   "source": [
    "class Point:\n",
    "\n",
    "    def __init__(self, x, y):\n",
    "        self.x = x\n",
    "        self.y = y\n",
    "    \n",
    "    @property\n",
    "    def x(self):\n",
    "        print(\"getter for x called\")\n",
    "        return self.__x\n",
    "    \n",
    "    @x.setter\n",
    "    def x(self, value):\n",
    "        print(\"setter for x called\")\n",
    "        if value < 0:\n",
    "            raise ValueError(\"x value cannot be negative\")\n",
    "        self.__x = value\n",
    "\n",
    "    @property\n",
    "    def y(self):\n",
    "        print(\"getter for y called\")\n",
    "        return self.__y\n",
    "    \n",
    "    @y.setter\n",
    "    def y(self, value):\n",
    "        print(\"setter for y called\")\n",
    "        if value < 0:\n",
    "            raise ValueError(\"y value cannot be negative\")\n",
    "        self.__y = value\n",
    "    \n",
    "    def __repr__(self):\n",
    "        return f\"Point(x: {self.x}, y: {self.y})\""
   ]
  },
  {
   "cell_type": "code",
   "execution_count": 11,
   "metadata": {},
   "outputs": [
    {
     "name": "stdout",
     "output_type": "stream",
     "text": [
      "setter for x called\n",
      "setter for y called\n"
     ]
    }
   ],
   "source": [
    "p = Point(1, 2)"
   ]
  },
  {
   "cell_type": "code",
   "execution_count": 12,
   "metadata": {},
   "outputs": [
    {
     "name": "stdout",
     "output_type": "stream",
     "text": [
      "getter for x called\n",
      "1\n",
      "getter for y called\n",
      "2\n"
     ]
    }
   ],
   "source": [
    "print(p.x)\n",
    "print(p.y)"
   ]
  },
  {
   "cell_type": "code",
   "execution_count": 13,
   "metadata": {},
   "outputs": [
    {
     "data": {
      "text/plain": [
       "{'_Point__x': 1, '_Point__y': 2}"
      ]
     },
     "execution_count": 13,
     "metadata": {},
     "output_type": "execute_result"
    }
   ],
   "source": [
    "p.__dict__"
   ]
  },
  {
   "cell_type": "code",
   "execution_count": 14,
   "metadata": {},
   "outputs": [
    {
     "name": "stdout",
     "output_type": "stream",
     "text": [
      "setter for x called\n",
      "setter for y called\n"
     ]
    }
   ],
   "source": [
    "p.x = 10\n",
    "p.y = 20"
   ]
  },
  {
   "cell_type": "code",
   "execution_count": 16,
   "metadata": {},
   "outputs": [
    {
     "name": "stdout",
     "output_type": "stream",
     "text": [
      "getter for x called\n",
      "getter for y called\n",
      "Point(x: 10, y: 20)\n"
     ]
    }
   ],
   "source": [
    "print(p)"
   ]
  },
  {
   "cell_type": "code",
   "execution_count": 17,
   "metadata": {},
   "outputs": [
    {
     "data": {
      "text/plain": [
       "{'_Point__x': 10, '_Point__y': 20}"
      ]
     },
     "execution_count": 17,
     "metadata": {},
     "output_type": "execute_result"
    }
   ],
   "source": [
    "p.__dict__"
   ]
  },
  {
   "cell_type": "markdown",
   "metadata": {},
   "source": [
    "* It works just the way `property` class works but it is so much more neat"
   ]
  }
 ],
 "metadata": {
  "kernelspec": {
   "display_name": "cv",
   "language": "python",
   "name": "python3"
  },
  "language_info": {
   "codemirror_mode": {
    "name": "ipython",
    "version": 3
   },
   "file_extension": ".py",
   "mimetype": "text/x-python",
   "name": "python",
   "nbconvert_exporter": "python",
   "pygments_lexer": "ipython3",
   "version": "3.8.10"
  },
  "orig_nbformat": 4
 },
 "nbformat": 4,
 "nbformat_minor": 2
}

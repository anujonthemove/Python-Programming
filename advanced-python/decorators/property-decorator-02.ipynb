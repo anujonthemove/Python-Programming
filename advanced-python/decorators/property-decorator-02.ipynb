{
 "cells": [
  {
   "cell_type": "markdown",
   "metadata": {},
   "source": [
    "* The property class or property decorator can be used in various other ways to customize attribute access in Python. Here are a couple of additional use cases:"
   ]
  },
  {
   "cell_type": "markdown",
   "metadata": {},
   "source": [
    "#### 1. Read-Only Properties:\n",
    "\n",
    "You can create read-only properties by defining only the getter method and omitting the setter and deleter. This is useful when you want to allow getting a property's value but disallow setting or deleting it."
   ]
  },
  {
   "cell_type": "code",
   "execution_count": 6,
   "metadata": {},
   "outputs": [
    {
     "name": "stdout",
     "output_type": "stream",
     "text": [
      "5\n",
      "78.53975\n"
     ]
    }
   ],
   "source": [
    "class Circle:\n",
    "    def __init__(self, radius):\n",
    "        self._radius = radius\n",
    "\n",
    "    @property\n",
    "    def radius(self):\n",
    "        return self._radius\n",
    "\n",
    "    @property\n",
    "    def area(self):\n",
    "        return 3.14159 * self._radius ** 2\n",
    "\n",
    "c = Circle(5)\n",
    "print(c.radius)  # Get radius\n",
    "print(c.area)    # Get area\n",
    "\n",
    "# Attempting to set or delete the radius property will raise an AttributeError"
   ]
  },
  {
   "cell_type": "code",
   "execution_count": 7,
   "metadata": {},
   "outputs": [
    {
     "ename": "AttributeError",
     "evalue": "can't delete attribute",
     "output_type": "error",
     "traceback": [
      "\u001b[0;31m---------------------------------------------------------------------------\u001b[0m",
      "\u001b[0;31mAttributeError\u001b[0m                            Traceback (most recent call last)",
      "\u001b[1;32m/home/acer/workspace/personal/github/Python-Programming/advanced-python/decorators/property.ipynb Cell 4\u001b[0m line \u001b[0;36m1\n\u001b[0;32m----> <a href='vscode-notebook-cell:/home/acer/workspace/personal/github/Python-Programming/advanced-python/decorators/property.ipynb#X10sZmlsZQ%3D%3D?line=0'>1</a>\u001b[0m \u001b[39mdel\u001b[39;00m c\u001b[39m.\u001b[39marea\n",
      "\u001b[0;31mAttributeError\u001b[0m: can't delete attribute"
     ]
    }
   ],
   "source": [
    "del c.area"
   ]
  },
  {
   "cell_type": "markdown",
   "metadata": {},
   "source": [
    "* The use of the property decorator or the @property decorator does not inherently forbid the deletion of attributes. Instead, it allows you to control or customize the behavior when an attribute is accessed, assigned, or deleted. By default, properties created with the @property decorator only provide a getter method, which means they allow attribute access but do not support attribute deletion. However, you can still explicitly add a deleter method if you want to control the deletion of a property.\n",
    "\n",
    "* Here's a breakdown of why properties created with the @property decorator typically do not support attribute deletion and how you can enable attribute deletion with a deleter method:"
   ]
  },
  {
   "cell_type": "markdown",
   "metadata": {},
   "source": [
    "#### 1. Getter Method (property): \n",
    "\n",
    "* The @property decorator creates a getter method for an attribute. When you access the property, the getter method is called, allowing you to customize what happens when you retrieve the attribute's value. Here's a simplified example:"
   ]
  },
  {
   "cell_type": "code",
   "execution_count": 8,
   "metadata": {},
   "outputs": [
    {
     "name": "stdout",
     "output_type": "stream",
     "text": [
      "42\n"
     ]
    }
   ],
   "source": [
    "class MyClass:\n",
    "    def __init__(self, x):\n",
    "        self._x = x\n",
    "\n",
    "    @property\n",
    "    def x(self):\n",
    "        return self._x\n",
    "\n",
    "obj = MyClass(42)\n",
    "print(obj.x)  # Accessing the property (calls the getter method)"
   ]
  },
  {
   "cell_type": "markdown",
   "metadata": {},
   "source": [
    "* In this example, accessing obj.x calls the getter method, allowing you to customize the value that is returned. \n",
    "\n",
    "* At the same time, you cannot modify or delete the attribute because the setter has not been defined."
   ]
  },
  {
   "cell_type": "code",
   "execution_count": 9,
   "metadata": {},
   "outputs": [
    {
     "ename": "AttributeError",
     "evalue": "can't set attribute",
     "output_type": "error",
     "traceback": [
      "\u001b[0;31m---------------------------------------------------------------------------\u001b[0m",
      "\u001b[0;31mAttributeError\u001b[0m                            Traceback (most recent call last)",
      "\u001b[1;32m/home/acer/workspace/personal/github/Python-Programming/advanced-python/decorators/property.ipynb Cell 8\u001b[0m line \u001b[0;36m1\n\u001b[0;32m----> <a href='vscode-notebook-cell:/home/acer/workspace/personal/github/Python-Programming/advanced-python/decorators/property.ipynb#X26sZmlsZQ%3D%3D?line=0'>1</a>\u001b[0m obj\u001b[39m.\u001b[39;49mx \u001b[39m=\u001b[39m \u001b[39m10\u001b[39m\n",
      "\u001b[0;31mAttributeError\u001b[0m: can't set attribute"
     ]
    }
   ],
   "source": [
    "obj.x = 10"
   ]
  },
  {
   "cell_type": "code",
   "execution_count": 10,
   "metadata": {},
   "outputs": [
    {
     "ename": "AttributeError",
     "evalue": "can't delete attribute",
     "output_type": "error",
     "traceback": [
      "\u001b[0;31m---------------------------------------------------------------------------\u001b[0m",
      "\u001b[0;31mAttributeError\u001b[0m                            Traceback (most recent call last)",
      "\u001b[1;32m/home/acer/workspace/personal/github/Python-Programming/advanced-python/decorators/property.ipynb Cell 9\u001b[0m line \u001b[0;36m1\n\u001b[0;32m----> <a href='vscode-notebook-cell:/home/acer/workspace/personal/github/Python-Programming/advanced-python/decorators/property.ipynb#X30sZmlsZQ%3D%3D?line=0'>1</a>\u001b[0m \u001b[39mdel\u001b[39;00m obj\u001b[39m.\u001b[39mx\n",
      "\u001b[0;31mAttributeError\u001b[0m: can't delete attribute"
     ]
    }
   ],
   "source": [
    "del obj.x"
   ]
  },
  {
   "cell_type": "markdown",
   "metadata": {},
   "source": [
    "#### 2. Setter Method (property.setter): \n",
    "* If you want to enable attribute assignment, you can use the @property decorator in combination with @x.setter. This allows you to specify a setter method that controls what happens when you assign a value to the property:\n",
    "\n"
   ]
  },
  {
   "cell_type": "code",
   "execution_count": 11,
   "metadata": {},
   "outputs": [
    {
     "name": "stdout",
     "output_type": "stream",
     "text": [
      "setter called\n"
     ]
    }
   ],
   "source": [
    "class MyClass:\n",
    "    def __init__(self, x):\n",
    "        self._x = x\n",
    "\n",
    "    @property\n",
    "    def x(self):\n",
    "        return self._x\n",
    "\n",
    "    @x.setter\n",
    "    def x(self, value):\n",
    "        print(\"setter called\")\n",
    "        self._x = value\n",
    "\n",
    "obj = MyClass(42)\n",
    "obj.x = 10  # Assigning a value to the property (calls the setter method)"
   ]
  },
  {
   "cell_type": "markdown",
   "metadata": {},
   "source": [
    "#### 3. Deleter Method (property.deleter): \n",
    "\n",
    "* By default, properties created with @property do not support attribute deletion. However, you can enable attribute deletion by adding a deleter method using the @x.deleter decorator. This allows you to specify what happens when you delete the property:\n",
    "\n"
   ]
  },
  {
   "cell_type": "code",
   "execution_count": 12,
   "metadata": {},
   "outputs": [],
   "source": [
    "class MyClass:\n",
    "    def __init__(self, x):\n",
    "        self._x = x\n",
    "\n",
    "    @property\n",
    "    def x(self):\n",
    "        return self._x\n",
    "\n",
    "    @x.setter\n",
    "    def x(self, value):\n",
    "        self._x = value\n",
    "\n",
    "    @x.deleter\n",
    "    def x(self):\n",
    "        print(\"Deleting x\")\n",
    "        del self._x"
   ]
  },
  {
   "cell_type": "code",
   "execution_count": 13,
   "metadata": {},
   "outputs": [
    {
     "name": "stdout",
     "output_type": "stream",
     "text": [
      "42\n",
      "10\n",
      "Deleting x\n"
     ]
    },
    {
     "ename": "AttributeError",
     "evalue": "'MyClass' object has no attribute '_x'",
     "output_type": "error",
     "traceback": [
      "\u001b[0;31m---------------------------------------------------------------------------\u001b[0m",
      "\u001b[0;31mAttributeError\u001b[0m                            Traceback (most recent call last)",
      "\u001b[1;32m/home/acer/workspace/personal/github/Python-Programming/advanced-python/decorators/property.ipynb Cell 15\u001b[0m line \u001b[0;36m6\n\u001b[1;32m      <a href='vscode-notebook-cell:/home/acer/workspace/personal/github/Python-Programming/advanced-python/decorators/property.ipynb#X40sZmlsZQ%3D%3D?line=3'>4</a>\u001b[0m \u001b[39mprint\u001b[39m(obj\u001b[39m.\u001b[39mx)\n\u001b[1;32m      <a href='vscode-notebook-cell:/home/acer/workspace/personal/github/Python-Programming/advanced-python/decorators/property.ipynb#X40sZmlsZQ%3D%3D?line=4'>5</a>\u001b[0m \u001b[39mdel\u001b[39;00m obj\u001b[39m.\u001b[39mx  \u001b[39m# Deleting the property (calls the deleter method)\u001b[39;00m\n\u001b[0;32m----> <a href='vscode-notebook-cell:/home/acer/workspace/personal/github/Python-Programming/advanced-python/decorators/property.ipynb#X40sZmlsZQ%3D%3D?line=5'>6</a>\u001b[0m \u001b[39mprint\u001b[39m(obj\u001b[39m.\u001b[39;49mx)\n",
      "\u001b[1;32m/home/acer/workspace/personal/github/Python-Programming/advanced-python/decorators/property.ipynb Cell 15\u001b[0m line \u001b[0;36m7\n\u001b[1;32m      <a href='vscode-notebook-cell:/home/acer/workspace/personal/github/Python-Programming/advanced-python/decorators/property.ipynb#X40sZmlsZQ%3D%3D?line=4'>5</a>\u001b[0m \u001b[39m@property\u001b[39m\n\u001b[1;32m      <a href='vscode-notebook-cell:/home/acer/workspace/personal/github/Python-Programming/advanced-python/decorators/property.ipynb#X40sZmlsZQ%3D%3D?line=5'>6</a>\u001b[0m \u001b[39mdef\u001b[39;00m \u001b[39mx\u001b[39m(\u001b[39mself\u001b[39m):\n\u001b[0;32m----> <a href='vscode-notebook-cell:/home/acer/workspace/personal/github/Python-Programming/advanced-python/decorators/property.ipynb#X40sZmlsZQ%3D%3D?line=6'>7</a>\u001b[0m     \u001b[39mreturn\u001b[39;00m \u001b[39mself\u001b[39;49m\u001b[39m.\u001b[39;49m_x\n",
      "\u001b[0;31mAttributeError\u001b[0m: 'MyClass' object has no attribute '_x'"
     ]
    }
   ],
   "source": [
    "obj = MyClass(42)\n",
    "print(obj.x)\n",
    "obj.x = 10\n",
    "print(obj.x)\n",
    "del obj.x  # Deleting the property (calls the deleter method)\n",
    "print(obj.x)"
   ]
  },
  {
   "cell_type": "markdown",
   "metadata": {},
   "source": [
    "In this example, adding the @x.deleter decorator allows you to customize the behavior when you delete the property obj.x. The deleter method, in this case, prints \"Deleting x\" before deleting the underlying attribute _x."
   ]
  },
  {
   "cell_type": "code",
   "execution_count": 1,
   "metadata": {},
   "outputs": [
    {
     "name": "stdout",
     "output_type": "stream",
     "text": [
      "20\n",
      "18\n",
      "42\n",
      "26\n"
     ]
    }
   ],
   "source": [
    "class Rectangle:\n",
    "    def __init__(self, width, height):\n",
    "        self.width = width\n",
    "        self.height = height\n",
    "\n",
    "    def area(self):\n",
    "        return self.width * self.height\n",
    "\n",
    "    \n",
    "    def perimeter(self):\n",
    "        return 2 * (self.width + self.height)\n",
    "\n",
    "r = Rectangle(4, 5)\n",
    "print(r.area())       # Compute and get area\n",
    "print(r.perimeter())  # Compute and get perimeter\n",
    "\n",
    "r.width = 6         # Set width\n",
    "r.height = 7        # Set height\n",
    "print(r.area())       # Re-compute and get area\n",
    "print(r.perimeter())  # Re-compute and get perimeter\n"
   ]
  },
  {
   "cell_type": "code",
   "execution_count": 2,
   "metadata": {},
   "outputs": [
    {
     "data": {
      "text/plain": [
       "{'width': 6, 'height': 7}"
      ]
     },
     "execution_count": 2,
     "metadata": {},
     "output_type": "execute_result"
    }
   ],
   "source": [
    "r.__dict__"
   ]
  },
  {
   "cell_type": "code",
   "execution_count": 3,
   "metadata": {},
   "outputs": [
    {
     "name": "stdout",
     "output_type": "stream",
     "text": [
      "20\n",
      "18\n",
      "42\n",
      "26\n"
     ]
    }
   ],
   "source": [
    "class Rectangle:\n",
    "    def __init__(self, width, height):\n",
    "        self._width = width\n",
    "        self._height = height\n",
    "\n",
    "    @property\n",
    "    def width(self):\n",
    "        return self._width\n",
    "\n",
    "    @width.setter\n",
    "    def width(self, value):\n",
    "        if value < 0:\n",
    "            raise ValueError(\"Width cannot be negative\")\n",
    "        self._width = value\n",
    "\n",
    "    @property\n",
    "    def height(self):\n",
    "        return self._height\n",
    "\n",
    "    @height.setter\n",
    "    def height(self, value):\n",
    "        if value < 0:\n",
    "            raise ValueError(\"Height cannot be negative\")\n",
    "        self._height = value\n",
    "\n",
    "    @property\n",
    "    def area(self):\n",
    "        return self._width * self._height\n",
    "\n",
    "    @property\n",
    "    def perimeter(self):\n",
    "        return 2 * (self._width + self._height)\n",
    "\n",
    "r = Rectangle(4, 5)\n",
    "print(r.area)       # Compute and get area\n",
    "print(r.perimeter)  # Compute and get perimeter\n",
    "\n",
    "r.width = 6         # Set width\n",
    "r.height = 7        # Set height\n",
    "print(r.area)       # Re-compute and get area\n",
    "print(r.perimeter)  # Re-compute and get perimeter\n"
   ]
  },
  {
   "cell_type": "code",
   "execution_count": 4,
   "metadata": {},
   "outputs": [
    {
     "data": {
      "text/plain": [
       "{'_width': 6, '_height': 7}"
      ]
     },
     "execution_count": 4,
     "metadata": {},
     "output_type": "execute_result"
    }
   ],
   "source": [
    "r.__dict__"
   ]
  },
  {
   "cell_type": "code",
   "execution_count": 5,
   "metadata": {},
   "outputs": [
    {
     "data": {
      "text/plain": [
       "6"
      ]
     },
     "execution_count": 5,
     "metadata": {},
     "output_type": "execute_result"
    }
   ],
   "source": [
    "r.width"
   ]
  },
  {
   "cell_type": "code",
   "execution_count": null,
   "metadata": {},
   "outputs": [],
   "source": []
  },
  {
   "cell_type": "markdown",
   "metadata": {},
   "source": [
    "#### 2. Computed Properties with Caching Using Properties:\n",
    "\n",
    "* In Python, you can use properties to compute values once and cache them for subsequent access. This is typically done by calculating the value when the property is first accessed and then storing it in an instance variable. On subsequent accesses, instead of recomputing the value, Python retrieves it from the cached instance variable.\n",
    "\n",
    "* Here's an example demonstrating computed properties with caching using properties:"
   ]
  },
  {
   "cell_type": "code",
   "execution_count": 3,
   "metadata": {},
   "outputs": [],
   "source": [
    "class Rectangle:\n",
    "    def __init__(self, width, height):\n",
    "        self._width = width\n",
    "        self._height = height\n",
    "        self._area = None  # Initialize the cache as None\n",
    "\n",
    "    @property\n",
    "    def width(self):\n",
    "        return self._width\n",
    "\n",
    "    @width.setter\n",
    "    def width(self, value):\n",
    "        if value < 0:\n",
    "            raise ValueError(\"Width cannot be negative\")\n",
    "        self._width = value\n",
    "        # Invalidate the cache when width is updated\n",
    "        self._area = None\n",
    "\n",
    "    @property\n",
    "    def height(self):\n",
    "        return self._height\n",
    "\n",
    "    @height.setter\n",
    "    def height(self, value):\n",
    "        if value < 0:\n",
    "            raise ValueError(\"Height cannot be negative\")\n",
    "        self._height = value\n",
    "        # Invalidate the cache when height is updated\n",
    "        self._area = None\n",
    "\n",
    "    @property\n",
    "    def area(self):\n",
    "        if self._area is None:\n",
    "            self._area = self._width * self._height  # Calculate and cache the area\n",
    "        return self._area\n"
   ]
  },
  {
   "cell_type": "code",
   "execution_count": 4,
   "metadata": {},
   "outputs": [
    {
     "name": "stdout",
     "output_type": "stream",
     "text": [
      "20\n",
      "20\n",
      "30\n"
     ]
    }
   ],
   "source": [
    "r = Rectangle(4, 5)\n",
    "print(r.area)  # Compute and cache area\n",
    "print(r.area)  # Retrieve area from cache (no recomputation)\n",
    "\n",
    "r.width = 6    # Update width\n",
    "print(r.area)  # Area is recomputed because width changed"
   ]
  },
  {
   "cell_type": "markdown",
   "metadata": {},
   "source": [
    "In this example:\n",
    "\n",
    "The _area attribute is used as a cache for the computed area. It is initialized to None when the object is created.\n",
    "\n",
    "When the area property is accessed, it checks if _area is None. If it is, it calculates the area and stores it in _area. Subsequent accesses of area return the cached value without recomputation.\n",
    "\n",
    "When either width or height is updated (setter methods), the cache _area is invalidated by setting it to None. This ensures that if the dimensions change, the area will be recomputed the next time it's accessed.\n",
    "\n",
    "By using this caching mechanism, you can avoid redundant computations of the area property. This approach ensures that the value is computed only when necessary and then cached for efficiency."
   ]
  },
  {
   "cell_type": "code",
   "execution_count": 5,
   "metadata": {},
   "outputs": [],
   "source": [
    "class Rectangle:\n",
    "    def __init__(self, width, height):\n",
    "        self.__width = width  # Name mangling for __width\n",
    "        self.__height = height  # Name mangling for __height\n",
    "        self._area = None  # No name mangling for _area; it remains accessible\n",
    "\n",
    "    @property\n",
    "    def area(self):\n",
    "        if self._area is None:\n",
    "            self._area = self.__width * self.__height  # Calculate and cache the area\n",
    "        return self._area\n"
   ]
  },
  {
   "cell_type": "code",
   "execution_count": 6,
   "metadata": {},
   "outputs": [
    {
     "name": "stdout",
     "output_type": "stream",
     "text": [
      "20\n",
      "20\n"
     ]
    },
    {
     "ename": "AttributeError",
     "evalue": "'Rectangle' object has no attribute '__width'",
     "output_type": "error",
     "traceback": [
      "\u001b[0;31m---------------------------------------------------------------------------\u001b[0m",
      "\u001b[0;31mAttributeError\u001b[0m                            Traceback (most recent call last)",
      "\u001b[1;32m/home/acer/workspace/personal/github/Python-Programming/advanced-python/decorators/property-decorator-02.ipynb Cell 28\u001b[0m line \u001b[0;36m7\n\u001b[1;32m      <a href='vscode-notebook-cell:/home/acer/workspace/personal/github/Python-Programming/advanced-python/decorators/property-decorator-02.ipynb#X43sZmlsZQ%3D%3D?line=2'>3</a>\u001b[0m \u001b[39mprint\u001b[39m(r\u001b[39m.\u001b[39marea)  \u001b[39m# Retrieve area from cache (no recomputation)\u001b[39;00m\n\u001b[1;32m      <a href='vscode-notebook-cell:/home/acer/workspace/personal/github/Python-Programming/advanced-python/decorators/property-decorator-02.ipynb#X43sZmlsZQ%3D%3D?line=4'>5</a>\u001b[0m \u001b[39m# Attempting to access __width or __height directly from outside the class will result in an AttributeError.\u001b[39;00m\n\u001b[1;32m      <a href='vscode-notebook-cell:/home/acer/workspace/personal/github/Python-Programming/advanced-python/decorators/property-decorator-02.ipynb#X43sZmlsZQ%3D%3D?line=5'>6</a>\u001b[0m \u001b[39m# For example, this will raise an error:\u001b[39;00m\n\u001b[0;32m----> <a href='vscode-notebook-cell:/home/acer/workspace/personal/github/Python-Programming/advanced-python/decorators/property-decorator-02.ipynb#X43sZmlsZQ%3D%3D?line=6'>7</a>\u001b[0m \u001b[39mprint\u001b[39m(r\u001b[39m.\u001b[39;49m__width)\n",
      "\u001b[0;31mAttributeError\u001b[0m: 'Rectangle' object has no attribute '__width'"
     ]
    }
   ],
   "source": [
    "r = Rectangle(4, 5)\n",
    "print(r.area)  # Compute and cache area\n",
    "print(r.area)  # Retrieve area from cache (no recomputation)\n",
    "\n",
    "# Attempting to access __width or __height directly from outside the class will result in an AttributeError.\n",
    "# For example, this will raise an error:\n",
    "print(r.__width)"
   ]
  },
  {
   "cell_type": "code",
   "execution_count": 7,
   "metadata": {},
   "outputs": [
    {
     "name": "stdout",
     "output_type": "stream",
     "text": [
      "20\n"
     ]
    }
   ],
   "source": [
    "# Accessing _area directly is still possible without name mangling.\n",
    "print(r._area)"
   ]
  },
  {
   "cell_type": "markdown",
   "metadata": {},
   "source": [
    "* __width and __height with name mangling: This makes these attributes more challenging to access directly from outside the class, enhancing encapsulation and reducing the risk of attribute name clashes.\n",
    "\n",
    "* _area without name mangling: _area remains accessible directly from outside the class, and it doesn't undergo name mangling. This attribute is used to store the cached value of the area and can be accessed without the need for mangled names.\n",
    "\n",
    "This approach can help you achieve a balance between encapsulation and ease of access, allowing you to control direct access to __width and __height while providing a more straightforward way to access the cached area value. However, keep in mind that the effectiveness of encapsulation ultimately depends on how the class is used and the conventions followed by the developers working with it."
   ]
  },
  {
   "cell_type": "markdown",
   "metadata": {},
   "source": []
  }
 ],
 "metadata": {
  "kernelspec": {
   "display_name": ".venv",
   "language": "python",
   "name": "python3"
  },
  "language_info": {
   "codemirror_mode": {
    "name": "ipython",
    "version": 3
   },
   "file_extension": ".py",
   "mimetype": "text/x-python",
   "name": "python",
   "nbconvert_exporter": "python",
   "pygments_lexer": "ipython3",
   "version": "3.8.10"
  },
  "orig_nbformat": 4
 },
 "nbformat": 4,
 "nbformat_minor": 2
}
